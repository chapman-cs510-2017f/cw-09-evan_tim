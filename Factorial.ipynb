{
 "cells": [
  {
   "cell_type": "markdown",
   "metadata": {
    "collapsed": false
   },
   "source": [
    "# Factorial Function in C #"
   ]
  },
  {
   "cell_type": "markdown",
   "metadata": {
    "collapsed": false
   },
   "source": [
    "## Description of the Algorithm ##"
   ]
  },
  {
   "cell_type": "markdown",
   "metadata": {
    "collapsed": false
   },
   "source": [
    "The algorithm is meant to compute $ (n)(n-1)(n-2)(n-3)...(1) $ with the given input n. to do this, the algorithm uses a while loop and runs for when n > 0, and multiplies the current n to the product, then increments n--."
   ]
  },
  {
   "cell_type": "markdown",
   "metadata": {
    "collapsed": false
   },
   "source": [
    "## Description of Current Issues in Factorial ##"
   ]
  },
  {
   "cell_type": "markdown",
   "metadata": {
    "collapsed": false
   },
   "source": [
    "This was the Original factorial method\n",
    "```python\n",
    "(1)int factorial(int n) {\n",
    "(2)    int fac = n;\n",
    "(3)    while (n > 0) {\n",
    "(4)        n--;\n",
    "(5)        fac *= n;\n",
    "(6)    }\n",
    "(7)    return fac;\n",
    "(8)}\n",
    "```"
   ]
  },
  {
   "cell_type": "markdown",
   "metadata": {
    "collapsed": false
   },
   "source": [
    "Problem 1.) when the while loop reaches n=1, line (4) sets n to 0, and therefore sets fac to 0."
   ]
  },
  {
   "cell_type": "markdown",
   "metadata": {
    "collapsed": false
   },
   "source": [
    "Problem 2.)when n = 0, it does not enter the while loop, and therefore it returns fac = 0, when it should return fac = 1"
   ]
  },
  {
   "cell_type": "markdown",
   "metadata": {
    "collapsed": false
   },
   "source": [
    "Problem 3.) when n is negative, the function never enters the while loop and sets fac to a negative number, and then returns the negative number that was input. we know the factorials are not defined for negative numbers"
   ]
  },
  {
   "cell_type": "markdown",
   "metadata": {
    "collapsed": false
   },
   "source": [
    "## Description of how to fix Factorial ##"
   ]
  },
  {
   "cell_type": "markdown",
   "metadata": {
    "collapsed": false
   },
   "source": [
    "This is the edited factorial method\n",
    "```python\n",
    "(1)int factorial(int n) {\n",
    "(2)    if (n < 0){\n",
    "(3)        return 0;\n",
    "(4)    }\n",
    "(5)    if (n == 0){\n",
    "(6)        return 1;\n",
    "(7)    }\n",
    "(8)    int fac = n;\n",
    "(9)    n--;\n",
    "(10)   while (n > 0) {\n",
    "(11)       fac *= n;\n",
    "(12)       n--;\n",
    "(13)   }\n",
    "(14)   return fac;\n",
    "(15)}\n",
    "```"
   ]
  },
  {
   "cell_type": "markdown",
   "metadata": {
    "collapsed": false
   },
   "source": [
    "first, we needed 2 if statements to handle negatives and n = 0."
   ]
  },
  {
   "cell_type": "markdown",
   "metadata": {
    "collapsed": false
   },
   "source": [
    "second, we added n-- before while loop so that it is properly setup for the loop to work. if that was not added, then in the first iteration of the loop we have fac = n*n, which we know would make the result n times larger than desired."
   ]
  },
  {
   "cell_type": "markdown",
   "metadata": {
    "collapsed": false
   },
   "source": [
    "third, we moved the n-- inside the while loop to before fac+=n so that we dont have the case that fac would equal 0."
   ]
  }
 ],
 "metadata": {
  "kernelspec": {
   "display_name": "Python 3 (Ubuntu Linux)",
   "language": "python",
   "name": "python3"
  },
  "language_info": {
   "codemirror_mode": {
    "name": "ipython",
    "version": 3
   },
   "file_extension": ".py",
   "mimetype": "text/x-python",
   "name": "python",
   "nbconvert_exporter": "python",
   "pygments_lexer": "ipython3",
   "version": "3.5.2"
  }
 },
 "nbformat": 4,
 "nbformat_minor": 0
}